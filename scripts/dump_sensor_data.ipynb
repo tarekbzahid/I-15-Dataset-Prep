{
 "cells": [
  {
   "cell_type": "code",
   "execution_count": 1,
   "metadata": {},
   "outputs": [
    {
     "name": "stdout",
     "output_type": "stream",
     "text": [
      "Error connecting to database: 2003 (HY000): Can't connect to MySQL server on '10.18.16.100:3306' (10060)\n"
     ]
    },
    {
     "ename": "NameError",
     "evalue": "name 'mydb' is not defined",
     "output_type": "error",
     "traceback": [
      "\u001b[1;31m---------------------------------------------------------------------------\u001b[0m",
      "\u001b[1;31mNameError\u001b[0m                                 Traceback (most recent call last)",
      "Cell \u001b[1;32mIn[1], line 19\u001b[0m\n\u001b[0;32m     16\u001b[0m     exit()\n\u001b[0;32m     18\u001b[0m \u001b[39m# Create a cursor object\u001b[39;00m\n\u001b[1;32m---> 19\u001b[0m mycursor \u001b[39m=\u001b[39m mydb\u001b[39m.\u001b[39mcursor()\n",
      "\u001b[1;31mNameError\u001b[0m: name 'mydb' is not defined"
     ]
    },
    {
     "ename": "",
     "evalue": "",
     "output_type": "error",
     "traceback": [
      "\u001b[1;31mThe Kernel crashed while executing code in the the current cell or a previous cell. Please review the code in the cell(s) to identify a possible cause of the failure. Click <a href='https://aka.ms/vscodeJupyterKernelCrash'>here</a> for more info. View Jupyter <a href='command:jupyter.viewOutput'>log</a> for further details."
     ]
    }
   ],
   "source": [
    "import mysql.connector\n",
    "import csv\n",
    "import os\n",
    "\n",
    "# Connect to the database\n",
    "try:\n",
    "    mydb = mysql.connector.connect(\n",
    "        host=\"10.18.16.100\",\n",
    "        user=\"jmc\",\n",
    "        password=\"jmc\",\n",
    "        database=\"NDEX_RealTime_2022\"\n",
    "    )\n",
    "    print(\"Successfully connected to the database!\")\n",
    "except mysql.connector.Error as err:\n",
    "    print(f\"Error connecting to database: {err}\")\n",
    "    exit()\n",
    "\n",
    "# Create a cursor object\n",
    "mycursor = mydb.cursor()"
   ]
  }
 ],
 "metadata": {
  "kernelspec": {
   "display_name": "Python 3",
   "language": "python",
   "name": "python3"
  },
  "language_info": {
   "codemirror_mode": {
    "name": "ipython",
    "version": 3
   },
   "file_extension": ".py",
   "mimetype": "text/x-python",
   "name": "python",
   "nbconvert_exporter": "python",
   "pygments_lexer": "ipython3",
   "version": "3.11.0"
  },
  "orig_nbformat": 4
 },
 "nbformat": 4,
 "nbformat_minor": 2
}
