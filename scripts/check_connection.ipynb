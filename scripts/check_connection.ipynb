{
 "cells": [
  {
   "cell_type": "code",
   "execution_count": null,
   "metadata": {},
   "outputs": [],
   "source": [
    "import mysql.connector\n",
    "\n",
    "# Connect to the database\n",
    "try:\n",
    "    mydb = mysql.connector.connect(\n",
    "        host=\"10.18.16.100\",\n",
    "        user=\"jmc\",\n",
    "        password=\"jmc\",\n",
    "        database=\"NDEX_RealTime_2018\"\n",
    "    )\n",
    "    print(f\"Successfully connected to the database: {mydb.database}\")\n",
    "except mysql.connector.Error as err:\n",
    "    print(f\"Error connecting to database: {err}\")\n",
    "    exit()\n",
    "\n",
    "# Create a cursor object\n",
    "mycursor = mydb.cursor()\n",
    "\n",
    "# Execute the SQL query to get the table list\n",
    "mycursor.execute(\"SHOW TABLES\")\n",
    "\n",
    "# Fetch all the table names\n",
    "table_list = mycursor.fetchall()\n",
    "\n",
    "# Print the table names\n",
    "for table in table_list:\n",
    "    print(table[0])\n",
    "\n",
    "# Close the cursor and database connection\n",
    "mycursor.close()\n",
    "mydb.close()\n"
   ]
  },
  {
   "cell_type": "code",
   "execution_count": 3,
   "metadata": {},
   "outputs": [
    {
     "name": "stdout",
     "output_type": "stream",
     "text": [
      "Successfully connected to the database: NDEX_RealTime_2018\n",
      "        date_index            date_time\n",
      "0            18685               0-- ::\n",
      "1                1  2018-01-04 12:16:30\n",
      "2                2  2018-01-04 12:17:30\n",
      "3                3  2018-01-04 12:18:30\n",
      "4                4  2018-01-04 12:19:30\n",
      "...            ...                  ...\n",
      "373032      373033  2018-12-31 23:48:57\n",
      "373033      373034  2018-12-31 23:49:57\n",
      "373034      373035  2018-12-31 23:50:57\n",
      "373035      373036  2018-12-31 23:53:57\n",
      "373036      373037  2018-12-31 23:56:03\n",
      "\n",
      "[373037 rows x 2 columns]\n"
     ]
    }
   ],
   "source": [
    "import mysql.connector\n",
    "import pandas as pd\n",
    "\n",
    "# Connect to the database\n",
    "try:\n",
    "    mydb = mysql.connector.connect(\n",
    "        host=\"10.18.16.100\",\n",
    "        user=\"jmc\",\n",
    "        password=\"jmc\",\n",
    "        database=\"NDEX_RealTime_2018\"\n",
    "    )\n",
    "    print(f\"Successfully connected to the database: {mydb.database}\")\n",
    "except mysql.connector.Error as err:\n",
    "    print(f\"Error connecting to database: {err}\")\n",
    "    exit()\n",
    "\n",
    "mycursor = mydb.cursor()\n",
    "\n",
    "table_name = \"dates\"  \n",
    "query = f\"SELECT * FROM {table_name}\"\n",
    "\n",
    "# Execute the query and fetch the data\n",
    "mycursor.execute(query)\n",
    "data = mycursor.fetchall()\n",
    "\n",
    "# Create a pandas DataFrame from the fetched data\n",
    "df = pd.DataFrame(data, columns=mycursor.column_names)\n",
    "\n",
    "# Close the cursor and database connection\n",
    "mycursor.close()\n",
    "mydb.close()\n",
    "\n",
    "print(df)\n",
    "\n",
    "\n"
   ]
  },
  {
   "cell_type": "code",
   "execution_count": 7,
   "metadata": {},
   "outputs": [
    {
     "name": "stdout",
     "output_type": "stream",
     "text": [
      "Successfully connected to the database: NDEX_RealTime_2018\n",
      "Table 'dates' saved as '/home/tzahid/Desktop/new2018dump/dates.csv'\n"
     ]
    }
   ],
   "source": [
    "import mysql.connector\n",
    "import pandas as pd\n",
    "\n",
    "# Connect to the database\n",
    "try:\n",
    "    mydb = mysql.connector.connect(\n",
    "        host=\"10.18.16.100\",\n",
    "        user=\"jmc\",\n",
    "        password=\"jmc\",\n",
    "        database=\"NDEX_RealTime_2018\"\n",
    "    )\n",
    "    print(f\"Successfully connected to the database: {mydb.database}\")\n",
    "except mysql.connector.Error as err:\n",
    "    print(f\"Error connecting to database: {err}\")\n",
    "    exit()\n",
    "\n",
    "mycursor = mydb.cursor()\n",
    "\n",
    "table_name = \"dates\"  # Replace with the actual table name\n",
    "query = f\"SELECT * FROM {table_name}\"\n",
    "\n",
    "mycursor.execute(query)\n",
    "data = mycursor.fetchall()\n",
    "\n",
    "# Create a pandas DataFrame from the fetched data\n",
    "df = pd.DataFrame(data, columns=mycursor.column_names)\n",
    "\n",
    "# Save the DataFrame as a CSV file\n",
    "output_path = \"/home/tzahid/Desktop/new2018dump/\"  # Specify the desired output path\n",
    "output_file = output_path + \"dates.csv\"  # Specify the desired output file name\n",
    "df.to_csv(output_file, index=False)\n",
    "\n",
    "mycursor.close()\n",
    "mydb.close()\n",
    "\n",
    "print(f\"Table '{table_name}' saved as '{output_file}'\")\n"
   ]
  }
 ],
 "metadata": {
  "kernelspec": {
   "display_name": "Python 3",
   "language": "python",
   "name": "python3"
  },
  "language_info": {
   "codemirror_mode": {
    "name": "ipython",
    "version": 3
   },
   "file_extension": ".py",
   "mimetype": "text/x-python",
   "name": "python",
   "nbconvert_exporter": "python",
   "pygments_lexer": "ipython3",
   "version": "3.8.10"
  },
  "orig_nbformat": 4
 },
 "nbformat": 4,
 "nbformat_minor": 2
}
