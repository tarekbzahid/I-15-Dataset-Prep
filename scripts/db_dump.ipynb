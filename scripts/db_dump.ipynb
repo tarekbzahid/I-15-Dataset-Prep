{
 "cells": [
  {
   "cell_type": "code",
   "execution_count": null,
   "metadata": {},
   "outputs": [
    {
     "name": "stdout",
     "output_type": "stream",
     "text": [
      "Successfully connected to the database!\n",
      "No tables were found.\n"
     ]
    }
   ],
   "source": [
    "import mysql.connector\n",
    "import csv\n",
    "import os\n",
    "\n",
    "# Variables:\n",
    "# Specify the folder path where the CSV files will be saved:\n",
    "folder_path = \"/home/tzahid/Desktop/dataset20\"\n",
    "\n",
    "# Connect to the database\n",
    "try:\n",
    "    mydb = mysql.connector.connect(\n",
    "        host=\"10.18.16.100\",\n",
    "        user=\"jmc\",\n",
    "        password=\"jmc\",\n",
    "        database=\"NDEX_RealTime_2022\"\n",
    "    )\n",
    "    print(f\"Successfully connected to the database: {mydb.database}\")\n",
    "except mysql.connector.Error as err:\n",
    "    print(f\"Error connecting to database: {err}\")\n",
    "    exit()\n",
    "\n",
    "# Create a cursor object\n",
    "mycursor = mydb.cursor()\n",
    "\n",
    "# SQL query to retrieve table names\n",
    "sql = \"SELECT table_name FROM information_schema.tables WHERE table_schema='NDEX_RealTime_2020' AND table_name LIKE 'd\\\\_%'\"\n",
    "\n",
    "# Execute the query\n",
    "mycursor.execute(sql)\n",
    "\n",
    "# Fetch all the table names\n",
    "table_names = mycursor.fetchall()\n",
    "\n",
    "# Check if any tables were found\n",
    "if len(table_names) == 0:\n",
    "    print(\"No tables were found.\")\n",
    "else:\n",
    "    # Print the number of tables found and starting to save as CSV\n",
    "    print(f\"Found {len(table_names)} tables. Starting to save as CSV.\")\n",
    "\n",
    "    # Loop through each table and extract the required data\n",
    "    for i, table_name in enumerate(table_names):\n",
    "        # SQL query to retrieve data\n",
    "        sql = f\"SELECT index_date, lane, vehicle_count, occupancy, vehicle_speed FROM `{table_name[0]}` WHERE lane='agg' ORDER BY index_date\"\n",
    "\n",
    "        # Execute the query\n",
    "        mycursor.execute(sql)\n",
    "\n",
    "        # Fetch all the results\n",
    "        results = mycursor.fetchall()\n",
    "\n",
    "        # Check if the table has any data\n",
    "        if len(results) > 0:\n",
    "            # Create a CSV file with the same name as the table\n",
    "            filename = f\"{table_name[0]}.csv\"\n",
    "            filepath = os.path.join(folder_path, filename)\n",
    "            with open(filepath, 'w', newline='') as csvfile:\n",
    "                # Create a CSV writer object\n",
    "                writer = csv.writer(csvfile)\n",
    "\n",
    "                # Write the header row\n",
    "                writer.writerow(['index_date', 'lane', 'vehicle_count', 'occupancy', 'vehicle_speed'])\n",
    "\n",
    "                # Write the data rows\n",
    "                for row in results:\n",
    "                    writer.writerow(row)\n",
    "\n",
    "            print(f\"[{i+1}/{len(table_names)}] Data from table {table_name[0]} saved to {filepath}\")\n",
    "\n",
    "    # Indicate that all files have been saved\n",
    "    print(f\"All files have been saved to CSV format in folder {folder_path}.\")\n",
    "\n",
    "# Close the database connection\n",
    "mydb.close()\n"
   ]
  }
 ],
 "metadata": {
  "interpreter": {
   "hash": "916dbcbb3f70747c44a77c7bcd40155683ae19c65e1c03b4aa3499c5328201f1"
  },
  "kernelspec": {
   "display_name": "Python 3.8.10 64-bit",
   "language": "python",
   "name": "python3"
  },
  "language_info": {
   "codemirror_mode": {
    "name": "ipython",
    "version": 3
   },
   "file_extension": ".py",
   "mimetype": "text/x-python",
   "name": "python",
   "nbconvert_exporter": "python",
   "pygments_lexer": "ipython3",
   "version": "3.8.10"
  },
  "orig_nbformat": 4
 },
 "nbformat": 4,
 "nbformat_minor": 2
}
