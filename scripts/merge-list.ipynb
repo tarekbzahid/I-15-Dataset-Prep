{
 "cells": [
  {
   "cell_type": "code",
   "execution_count": null,
   "metadata": {},
   "outputs": [],
   "source": [
    "import pandas as pd\n",
    "import os\n",
    "from tqdm import tqdm\n",
    "\n",
    "# read file names from file_list.csv\n",
    "file_list = pd.read_csv(\"file_list.csv\")\n",
    "csv_files = [filename + '.csv' for filename in file_list['file_name']]\n",
    "\n",
    "# get the range of index values\n",
    "path = r\"/home/tzahid/Desktop/dataset20\"\n",
    "max_index = 0\n",
    "for file in csv_files:\n",
    "    data = pd.read_csv(os.path.join(path, file), usecols=[0])\n",
    "    max_index = max(max_index, data['index_date'].max())\n",
    "\n",
    "index_range = range(1, max_index+1)\n",
    "\n",
    "# create an empty dataframe with the desired index\n",
    "df = pd.DataFrame(index=index_range)\n",
    "\n",
    "# loop through the csv files and extract the 5th column and add it to the dataframe\n",
    "for file in tqdm(csv_files, desc='Processing CSV files'):\n",
    "    col_name = os.path.splitext(file)[0]\n",
    "    col_name = col_name.replace(\" \", \"_\")  # replace spaces with underscores in column names\n",
    "    data = pd.read_csv(os.path.join(path, file), usecols=[0, 4], header=0, skiprows=[0], names=['index_date', col_name]) # modify usecols to define which columns to extract, here 0 and 4\n",
    "    data = data.drop_duplicates(subset=['index_date'])  # drop any duplicate rows\n",
    "    data = data.set_index('index_date')  # set the index to the 'index_date' column\n",
    "    data = data.reindex(index_range, fill_value=0)  # add missing index rows and fill with 0\n",
    "    df[col_name] = data[col_name]  # add the column to the main dataframe\n",
    "\n",
    "# save the concatenated dataframe to a new csv file\n",
    "df.to_csv(os.path.join(path, 'concatenated_sensor_values.csv'), index_label='index_date')\n",
    "\n",
    "# print the range of index values\n",
    "print(f\"Index range: 1 - {max_index}\")\n",
    "\n",
    "# print final message\n",
    "print(f\"Concatenation complete. {len(csv_files)} files concatenated. Output saved to 'concatenated_sensor_values.csv'.\")\n"
   ]
  }
 ],
 "metadata": {
  "interpreter": {
   "hash": "916dbcbb3f70747c44a77c7bcd40155683ae19c65e1c03b4aa3499c5328201f1"
  },
  "kernelspec": {
   "display_name": "Python 3.8.10 64-bit",
   "language": "python",
   "name": "python3"
  },
  "language_info": {
   "name": "python",
   "version": "3.8.10"
  },
  "orig_nbformat": 4
 },
 "nbformat": 4,
 "nbformat_minor": 2
}
