{
 "cells": [
  {
   "cell_type": "code",
   "execution_count": 1,
   "metadata": {},
   "outputs": [
    {
     "name": "stdout",
     "output_type": "stream",
     "text": [
      "26 CSV files found matching with the list of file names.\n"
     ]
    },
    {
     "name": "stderr",
     "output_type": "stream",
     "text": [
      "Processing CSV files: 100%|██████████| 26/26 [00:04<00:00,  5.82it/s]\n"
     ]
    },
    {
     "name": "stdout",
     "output_type": "stream",
     "text": [
      "Index range: 1 - 306846\n",
      "Concatenation complete. 26 files have been concatenated.\n"
     ]
    }
   ],
   "source": [
    "import pandas as pd\n",
    "import os\n",
    "from tqdm import tqdm\n",
    "\n",
    "# read the list of file names from the csv file\n",
    "file_list = pd.read_csv('/home/tzahid/Desktop/pred_sensor_list.csv')['pred_sensor'].tolist()\n",
    "\n",
    "# add '.csv' extension to file names in the list\n",
    "file_list = [filename+'.csv' for filename in file_list]\n",
    "\n",
    "# get a list of all csv files in the folder\n",
    "path = '/home/tzahid/Desktop/dataset22/'\n",
    "all_files = os.listdir(path)\n",
    "csv_files = [filename for filename in all_files if filename.endswith('.csv') and filename in file_list]\n",
    "\n",
    "\n",
    "\n",
    "print(f\"{len(csv_files)} CSV files found matching with the list of file names.\")\n",
    "\n",
    "\n",
    "# get the range of index values\n",
    "max_index = 0\n",
    "for file in csv_files:\n",
    "    try:\n",
    "        data = pd.read_csv(os.path.join(path, file), usecols=[0])\n",
    "        max_index = max(max_index, data['index_date'].max())\n",
    "    except FileNotFoundError:\n",
    "        print(f\"File not found: {file}. Skipping to next file.\")\n",
    "\n",
    "index_range = range(1, max_index+1)\n",
    "\n",
    "# create an empty dataframe with the desired index\n",
    "df = pd.DataFrame(index=index_range)\n",
    "\n",
    "# loop through the csv files and extract the 5th column and add it to the dataframe\n",
    "for file in tqdm(csv_files, desc='Processing CSV files'):\n",
    "    try:\n",
    "        col_name = os.path.splitext(file)[0]\n",
    "        col_name = col_name.replace(\" \", \"_\")  # replace spaces with underscores in column names\n",
    "        data = pd.read_csv(os.path.join(path, file), usecols=[0, 4], header=0, skiprows=[0], names=['index_date', col_name]) # modify usecols to define which columns to extract, here 0 and 4\n",
    "        data = data.drop_duplicates(subset=['index_date'])  # drop any duplicate rows\n",
    "        data = data.set_index('index_date')  # set the index to the 'index_date' column\n",
    "        data = data.reindex(index_range, fill_value=0)  # add missing index rows and fill with 0\n",
    "        df[col_name] = data[col_name]  # add the column to the main dataframe\n",
    "    except FileNotFoundError:\n",
    "        print(f\"File not found: {file}. Skipping to next file.\")\n",
    "\n",
    "# save the concatenated dataframe to a new csv file\n",
    "# name of the final file\n",
    "df.to_csv(os.path.join(path, 'pred_sensor_values.csv'), index_label='index_date')\n",
    "\n",
    "# print the range of index values\n",
    "print(f\"Index range: 1 - {max_index}\")\n",
    "\n",
    "# print final message\n",
    "print(f\"Concatenation complete. {len(df.columns)} files have been concatenated.\")\n"
   ]
  }
 ],
 "metadata": {
  "interpreter": {
   "hash": "916dbcbb3f70747c44a77c7bcd40155683ae19c65e1c03b4aa3499c5328201f1"
  },
  "kernelspec": {
   "display_name": "Python 3.8.10 64-bit",
   "language": "python",
   "name": "python3"
  },
  "language_info": {
   "codemirror_mode": {
    "name": "ipython",
    "version": 3
   },
   "file_extension": ".py",
   "mimetype": "text/x-python",
   "name": "python",
   "nbconvert_exporter": "python",
   "pygments_lexer": "ipython3",
   "version": "3.8.10"
  },
  "orig_nbformat": 4
 },
 "nbformat": 4,
 "nbformat_minor": 2
}
